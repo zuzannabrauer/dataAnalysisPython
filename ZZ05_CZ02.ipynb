{
 "cells": [
  {
   "cell_type": "markdown",
   "id": "b4e52661",
   "metadata": {
    "deletable": false,
    "editable": false,
    "nbgrader": {
     "cell_type": "markdown",
     "checksum": "de5d2954ee53a96e0e5fe7d13e6051d7",
     "grade": false,
     "grade_id": "cell-fcd2666579131b77",
     "locked": true,
     "schema_version": 3,
     "solution": false,
     "task": false
    },
    "tags": []
   },
   "source": [
    "# Analiza danych przestrzennych - ćwiczenia laboratoryjne 2023/2024\n",
    "\n",
    "Ten notatnik zalicza się do grupy zestawów zadań, na podstawie których odbywa się zaliczenie ćwiczeń i podlega zwrotowi do oceny w ustalonym na zajęciach terminie.\n",
    "\n",
    "Uwagi i wytyczne ogólne dotyczące uzupełniania i oceny notatnika:\n",
    "- Podczas wykonywania zadań należy korzystać wyłącznie z pakietów zaimportowanych na początku notatnika oraz z pakietów wchodzących w skład standardowej biblioteki Pythona, które można zaimportować samodzielnie we wskazanej komórce notatnika.\n",
    "- Swoje rozwiązania należy wprowadzać wyłącznie w miejce następujących fragmentów kodu:<br/> `# YOUR CODE HERE`<br/> `raise NotImplementedError()`<br/> \n",
    "a odpowiedzi tekstowe w komórkach oznaczonych hasłem:<br/> \n",
    "`YOUR ANSWER HERE`<br/> \n",
    "Nie należy w żaden sposób modyfikować pozostałych fragmentów kodu oraz innych elementów notatnika, w szczególności dodawać lub usuwać komórek oraz zmieniać nazwy pliku.\n",
    "- Jeżeli zestaw zadań wymaga skorzystania z fragmentów kodu opracowanego w ramach wcześniejszych zestawów zadań należy je umieścić we wskazanej komórce notatnika.\n",
    "- Otrzymywane wyniki i odpowiedzi mają być rezultatem wykonania napisanego kodu, odpowiedzi uzupełniane manualnie nie podlegają ocenie.\n",
    "- Zawarte w notatniku automatyczne testy mają charakter poglądowy. Dotyczą one wybranych aspektów zadań i mają na celu wyłapać podstawowe błędy. Przejście przez kod wszystkich testów nie oznacza, że zadanie jest wykonane w całości poprawnie i zostanie ocenione na maksymalną liczbę punktów.\n",
    "- Zadania należy wykonać w taki sposób, aby podczas wykonywania kodu nie zostały wyświetlone żadne ostrzeżenia.\n",
    "- Zadania, które powodują wyświetlenie komunikatu o błędzie przerywającym wykonywanie kodu nie podlegają ocenie.\n",
    "\n",
    "Uwagi i wytyczne ogólne dotyczące wizualizacji wyników:\n",
    "- Wszystkie wykresy powinny być wykonane w jednolitym, przejrzystym i czytelnym stylu, posiadać odpowiednio dobrane proporcje i zakresy wartości osi.\n",
    "- Figury powinny mieć ustawione białe tło, tak, aby niezależnie od ustawień notatnika wszystkie elementy wykresów były dobrze widoczne (domyślnie tło jest przeźroczyste co może powodować problemy w notatnikach z ustawionym ciemnym tłem). Rozmiar poziomy figur nie powinien przekraczać 20 cali.\n",
    "- Wykresy oraz ich osie powinny mieć nadane tytuły. Jeżeli w obrębie figury znajduje się więcej niż jeden wykres to figura również powinna mieć nadany tytuł.\n",
    "\n",
    "Przed odesłaniem zestawu zadań do oceny proszę uzupełnić komórkę z danymi autorów rozwiązania (nazwa zespołu oraz imiona, nazwiska i numery indeksów członków zespołu) oraz upewnić się, że notatnik działa zgodnie z oczekiwaniami. W tym celu należy skorzystać z opcji **Restart Kernel and Run All Cells...** dostępnej na górnej belce notatnika pod symbolem $\\blacktriangleright\\blacktriangleright$."
   ]
  },
  {
   "cell_type": "markdown",
   "id": "57ef3cad",
   "metadata": {},
   "source": [
    "Nazwa zespołu:\n",
    "Członkowie:"
   ]
  },
  {
   "cell_type": "markdown",
   "id": "8d6a8f25",
   "metadata": {
    "deletable": false,
    "editable": false,
    "nbgrader": {
     "cell_type": "markdown",
     "checksum": "eddc8826810e4a6f7bf68319da334bd9",
     "grade": false,
     "grade_id": "cell-109006d425e5cf83",
     "locked": true,
     "schema_version": 3,
     "solution": false,
     "task": false
    },
    "tags": []
   },
   "source": [
    "---"
   ]
  },
  {
   "cell_type": "markdown",
   "id": "8837614f-5b2c-4388-8990-c5e54e875948",
   "metadata": {
    "deletable": false,
    "editable": false,
    "nbgrader": {
     "cell_type": "markdown",
     "checksum": "9879e4e5c2ec61ef9d0f8b7f68e49e62",
     "grade": false,
     "grade_id": "cell-7c4f21a6cdeccca2",
     "locked": true,
     "schema_version": 3,
     "solution": false,
     "task": false
    },
    "tags": []
   },
   "source": [
    "## Zestaw zadań 5: Weryfikacja hipotez statystycznych (Notatnik 2/2)"
   ]
  },
  {
   "cell_type": "code",
   "execution_count": 1,
   "id": "b6b4bd0b-8917-49af-a6ca-df50054b200f",
   "metadata": {
    "deletable": false,
    "editable": false,
    "nbgrader": {
     "cell_type": "code",
     "checksum": "d63eb6abc950cecce697a055e9de7e2f",
     "grade": false,
     "grade_id": "cell-4299d1af0aa3324e",
     "locked": true,
     "schema_version": 3,
     "solution": false,
     "task": false
    },
    "tags": []
   },
   "outputs": [],
   "source": [
    "import numpy as np\n",
    "import pandas as pd\n",
    "import scipy as sp\n",
    "import matplotlib as mpl\n",
    "import matplotlib.pyplot as plt\n",
    "import seaborn as sns"
   ]
  },
  {
   "cell_type": "code",
   "execution_count": 2,
   "id": "b5182ff7-abc4-4fd8-bf2f-c3e93a16dfe8",
   "metadata": {},
   "outputs": [],
   "source": [
    "# Miejsce do importu pakietów wchodzących w skład standardowej biblioteki Pythona oraz ustawienie opcji wykorzystywanych pakietów"
   ]
  },
  {
   "cell_type": "markdown",
   "id": "a2925875-240a-4aa0-a01b-5c49212596af",
   "metadata": {
    "deletable": false,
    "editable": false,
    "nbgrader": {
     "cell_type": "markdown",
     "checksum": "1c05d46bda90b2aa88e587442b209558",
     "grade": false,
     "grade_id": "cell-38015e195825227f",
     "locked": true,
     "schema_version": 3,
     "solution": false,
     "task": false
    },
    "tags": []
   },
   "source": [
    "### Funkcje do wykorzystania"
   ]
  },
  {
   "cell_type": "code",
   "execution_count": 3,
   "id": "f5920999-298a-47bc-b8e6-2225de840f11",
   "metadata": {
    "deletable": false,
    "editable": false,
    "nbgrader": {
     "cell_type": "code",
     "checksum": "8cc69dd9d9b847f4aa2d87e7f27082e3",
     "grade": false,
     "grade_id": "cell-e242e74d8228b0e9",
     "locked": true,
     "schema_version": 3,
     "solution": false,
     "task": false
    },
    "tags": []
   },
   "outputs": [],
   "source": [
    "def vizualize_test_result(pdf, statistic, rejection_region):\n",
    "    \"\"\"\n",
    "    Parameters\n",
    "    -------\n",
    "    pdf: pandas.DataFrame\n",
    "        Tablica zawierająca informacje niezbędne do wykreślenia funkcji gęstości prawdopodobieństwa wykorzystywanego w teście rozkładu\n",
    "        teoretycznego - index z wariantami zmiennej losowej i nadaną nazwą zmiennej (np. x) oraz pojedynczą kolumnę z wartościami\n",
    "        gęstościami prawdopodobieństwa wyliczonymi dla poszczególnych wariantów o nadanej nazwie bazującej na nazwie zmiennej (np. f(x)).\n",
    "    statistic: float\n",
    "        Wartość statystyki testowej wyliczonej na podstawie próby losowej.\n",
    "    rejection_region: list\n",
    "        Lista zawierająca trzy elementy pozwalające na określenie obszaru krytycznego w następującej kolejności:\n",
    "         - wartość dolnej granicy przedziału,\n",
    "         - wartość górnej granicy przedziału,\n",
    "         - \"inner\" lub \"outer\" w zależności od tego, czy ma być zakolorowana wewnętrzna, czy zewnętrzna część przedziału.\n",
    "    \"\"\"\n",
    "    pdf_name= pdf.columns[0]\n",
    "    \n",
    "    fig, axes = plt.subplots(1, 1, figsize=(8, 3), facecolor='white')\n",
    "\n",
    "    axes.plot(pdf.index, pdf[pdf_name], color=\"grey\")\n",
    "\n",
    "    if rejection_region[2]==\"inner\":\n",
    "        axes.fill_between(pdf.index, pdf[pdf_name], 0, where=((pdf.index > rejection_region[0]) & (pdf.index<rejection_region[1])), color='red', alpha=0.5)\n",
    "    elif rejection_region[2]==\"outer\":\n",
    "        axes.fill_between(pdf.index, pdf[pdf_name], 0, where=((pdf.index < rejection_region[0]) | (pdf.index>rejection_region[1])), color='red', alpha=0.5)\n",
    "    \n",
    "    axes.vlines(x=statistic, ymin=0, ymax=np.max(pdf[pdf_name]/3), color=\"blue\")\n",
    "    \n",
    "    axes.set_xlabel(pdf.index.name)\n",
    "    axes.set_ylabel(pdf_name)"
   ]
  },
  {
   "cell_type": "markdown",
   "id": "3e36c947-084b-4886-ae5d-4dd2fad84cc1",
   "metadata": {
    "deletable": false,
    "editable": false,
    "nbgrader": {
     "cell_type": "markdown",
     "checksum": "2a905e2da7c0668ec0e37ad81dfbfc56",
     "grade": false,
     "grade_id": "cell-55137fca227bfc7b",
     "locked": true,
     "schema_version": 3,
     "solution": false,
     "task": false
    },
    "tags": []
   },
   "source": [
    "### Dane do zadań\n",
    "\n",
    "W celu wygenerowania danych wykorzystywanych w zawartych w notatniku zadaniach i komórkach testowych wykonaj obie poniższe komórki."
   ]
  },
  {
   "cell_type": "code",
   "execution_count": 4,
   "id": "f47e43fc-8e10-458c-868c-8ddeae57a017",
   "metadata": {
    "deletable": false,
    "editable": false,
    "nbgrader": {
     "cell_type": "code",
     "checksum": "8cc2684be469d6773cbe37ead80f721e",
     "grade": false,
     "grade_id": "cell-bde79549c3be07f2",
     "locked": true,
     "schema_version": 3,
     "solution": false,
     "task": false
    },
    "tags": []
   },
   "outputs": [
    {
     "data": {
      "text/html": [
       "<div>\n",
       "<style scoped>\n",
       "    .dataframe tbody tr th:only-of-type {\n",
       "        vertical-align: middle;\n",
       "    }\n",
       "\n",
       "    .dataframe tbody tr th {\n",
       "        vertical-align: top;\n",
       "    }\n",
       "\n",
       "    .dataframe thead th {\n",
       "        text-align: right;\n",
       "    }\n",
       "</style>\n",
       "<table border=\"1\" class=\"dataframe\">\n",
       "  <thead>\n",
       "    <tr style=\"text-align: right;\">\n",
       "      <th></th>\n",
       "      <th>X</th>\n",
       "    </tr>\n",
       "  </thead>\n",
       "  <tbody>\n",
       "    <tr>\n",
       "      <th>0</th>\n",
       "      <td>5.338105</td>\n",
       "    </tr>\n",
       "    <tr>\n",
       "      <th>1</th>\n",
       "      <td>4.906813</td>\n",
       "    </tr>\n",
       "    <tr>\n",
       "      <th>2</th>\n",
       "      <td>5.006564</td>\n",
       "    </tr>\n",
       "    <tr>\n",
       "      <th>3</th>\n",
       "      <td>5.081503</td>\n",
       "    </tr>\n",
       "    <tr>\n",
       "      <th>4</th>\n",
       "      <td>4.842215</td>\n",
       "    </tr>\n",
       "  </tbody>\n",
       "</table>\n",
       "</div>"
      ],
      "text/plain": [
       "          X\n",
       "0  5.338105\n",
       "1  4.906813\n",
       "2  5.006564\n",
       "3  5.081503\n",
       "4  4.842215"
      ]
     },
     "execution_count": 4,
     "metadata": {},
     "output_type": "execute_result"
    }
   ],
   "source": [
    "test_data_1 = pd.DataFrame(data=sp.stats.norm.rvs(loc=5, scale=0.2, size=15, random_state=7), columns=[\"X\"])\n",
    "test_data_1.head()"
   ]
  },
  {
   "cell_type": "code",
   "execution_count": 5,
   "id": "99f100fb-98fe-4992-af3a-7af7850507ba",
   "metadata": {
    "deletable": false,
    "editable": false,
    "nbgrader": {
     "cell_type": "code",
     "checksum": "45d978fe5e470cf101aa300cdc8a70b2",
     "grade": false,
     "grade_id": "cell-b2daedb2e162e246",
     "locked": true,
     "schema_version": 3,
     "solution": false,
     "task": false
    },
    "tags": []
   },
   "outputs": [
    {
     "data": {
      "text/html": [
       "<div>\n",
       "<style scoped>\n",
       "    .dataframe tbody tr th:only-of-type {\n",
       "        vertical-align: middle;\n",
       "    }\n",
       "\n",
       "    .dataframe tbody tr th {\n",
       "        vertical-align: top;\n",
       "    }\n",
       "\n",
       "    .dataframe thead th {\n",
       "        text-align: right;\n",
       "    }\n",
       "</style>\n",
       "<table border=\"1\" class=\"dataframe\">\n",
       "  <thead>\n",
       "    <tr style=\"text-align: right;\">\n",
       "      <th></th>\n",
       "      <th>X</th>\n",
       "    </tr>\n",
       "  </thead>\n",
       "  <tbody>\n",
       "    <tr>\n",
       "      <th>0</th>\n",
       "      <td>5.175251</td>\n",
       "    </tr>\n",
       "    <tr>\n",
       "      <th>1</th>\n",
       "      <td>5.034884</td>\n",
       "    </tr>\n",
       "    <tr>\n",
       "      <th>2</th>\n",
       "      <td>4.975563</td>\n",
       "    </tr>\n",
       "    <tr>\n",
       "      <th>3</th>\n",
       "      <td>5.018992</td>\n",
       "    </tr>\n",
       "    <tr>\n",
       "      <th>4</th>\n",
       "      <td>4.969178</td>\n",
       "    </tr>\n",
       "  </tbody>\n",
       "</table>\n",
       "</div>"
      ],
      "text/plain": [
       "          X\n",
       "0  5.175251\n",
       "1  5.034884\n",
       "2  4.975563\n",
       "3  5.018992\n",
       "4  4.969178"
      ]
     },
     "execution_count": 5,
     "metadata": {},
     "output_type": "execute_result"
    }
   ],
   "source": [
    "test_data_2 = pd.DataFrame(data=sp.stats.norm.rvs(loc=5.12, scale=0.25, size=23, random_state=19), columns=[\"X\"])\n",
    "test_data_2.head()"
   ]
  },
  {
   "cell_type": "code",
   "execution_count": 6,
   "id": "b8129901-b4f5-4c73-8688-7a8f32613d8c",
   "metadata": {
    "deletable": false,
    "editable": false,
    "nbgrader": {
     "cell_type": "code",
     "checksum": "c9dbeaccc155aacbf84eceb12f33b5ab",
     "grade": false,
     "grade_id": "cell-c2d19fd21d50e8a5",
     "locked": true,
     "schema_version": 3,
     "solution": false,
     "task": false
    },
    "tags": []
   },
   "outputs": [
    {
     "data": {
      "text/html": [
       "<div>\n",
       "<style scoped>\n",
       "    .dataframe tbody tr th:only-of-type {\n",
       "        vertical-align: middle;\n",
       "    }\n",
       "\n",
       "    .dataframe tbody tr th {\n",
       "        vertical-align: top;\n",
       "    }\n",
       "\n",
       "    .dataframe thead th {\n",
       "        text-align: right;\n",
       "    }\n",
       "</style>\n",
       "<table border=\"1\" class=\"dataframe\">\n",
       "  <thead>\n",
       "    <tr style=\"text-align: right;\">\n",
       "      <th></th>\n",
       "      <th>A1</th>\n",
       "      <th>A2</th>\n",
       "      <th>A3</th>\n",
       "    </tr>\n",
       "  </thead>\n",
       "  <tbody>\n",
       "    <tr>\n",
       "      <th>0</th>\n",
       "      <td>1802</td>\n",
       "      <td>1664.0</td>\n",
       "      <td>1877.0</td>\n",
       "    </tr>\n",
       "    <tr>\n",
       "      <th>1</th>\n",
       "      <td>1992</td>\n",
       "      <td>1755.0</td>\n",
       "      <td>1710.0</td>\n",
       "    </tr>\n",
       "    <tr>\n",
       "      <th>2</th>\n",
       "      <td>1854</td>\n",
       "      <td>1823.0</td>\n",
       "      <td>1882.0</td>\n",
       "    </tr>\n",
       "    <tr>\n",
       "      <th>3</th>\n",
       "      <td>1880</td>\n",
       "      <td>1862.0</td>\n",
       "      <td>1720.0</td>\n",
       "    </tr>\n",
       "    <tr>\n",
       "      <th>4</th>\n",
       "      <td>1761</td>\n",
       "      <td>NaN</td>\n",
       "      <td>1950.0</td>\n",
       "    </tr>\n",
       "    <tr>\n",
       "      <th>5</th>\n",
       "      <td>1900</td>\n",
       "      <td>NaN</td>\n",
       "      <td>NaN</td>\n",
       "    </tr>\n",
       "  </tbody>\n",
       "</table>\n",
       "</div>"
      ],
      "text/plain": [
       "     A1      A2      A3\n",
       "0  1802  1664.0  1877.0\n",
       "1  1992  1755.0  1710.0\n",
       "2  1854  1823.0  1882.0\n",
       "3  1880  1862.0  1720.0\n",
       "4  1761     NaN  1950.0\n",
       "5  1900     NaN     NaN"
      ]
     },
     "execution_count": 6,
     "metadata": {},
     "output_type": "execute_result"
    }
   ],
   "source": [
    "test_data_3 = pd.DataFrame()\n",
    "test_data_3[\"A1\"] = [1802, 1992, 1854, 1880, 1761, 1900]\n",
    "test_data_3[\"A2\"] = [1664, 1755, 1823, 1862, np.nan, np.nan]\n",
    "test_data_3[\"A3\"] = [1877, 1710, 1882, 1720, 1950, np.nan]\n",
    "test_data_3"
   ]
  },
  {
   "cell_type": "code",
   "execution_count": 7,
   "id": "2a551c1a-c7f7-459b-ac4e-f14a393ef77e",
   "metadata": {
    "deletable": false,
    "editable": false,
    "nbgrader": {
     "cell_type": "code",
     "checksum": "c23db01b6a3f4d275d00c7ed57241a40",
     "grade": false,
     "grade_id": "cell-0d53f29e8b4d70ae",
     "locked": true,
     "schema_version": 3,
     "solution": false,
     "task": false
    },
    "tags": []
   },
   "outputs": [
    {
     "data": {
      "text/html": [
       "<div>\n",
       "<style scoped>\n",
       "    .dataframe tbody tr th:only-of-type {\n",
       "        vertical-align: middle;\n",
       "    }\n",
       "\n",
       "    .dataframe tbody tr th {\n",
       "        vertical-align: top;\n",
       "    }\n",
       "\n",
       "    .dataframe thead th {\n",
       "        text-align: right;\n",
       "    }\n",
       "</style>\n",
       "<table border=\"1\" class=\"dataframe\">\n",
       "  <thead>\n",
       "    <tr style=\"text-align: right;\">\n",
       "      <th></th>\n",
       "      <th>B1</th>\n",
       "      <th>B2</th>\n",
       "      <th>B3</th>\n",
       "      <th>B4</th>\n",
       "      <th>B5</th>\n",
       "      <th>B6</th>\n",
       "    </tr>\n",
       "  </thead>\n",
       "  <tbody>\n",
       "    <tr>\n",
       "      <th>0</th>\n",
       "      <td>0.444399</td>\n",
       "      <td>0.806100</td>\n",
       "      <td>2.207009</td>\n",
       "      <td>0.179143</td>\n",
       "      <td>-2.018446</td>\n",
       "      <td>-0.948586</td>\n",
       "    </tr>\n",
       "    <tr>\n",
       "      <th>1</th>\n",
       "      <td>-2.751942</td>\n",
       "      <td>-0.942722</td>\n",
       "      <td>-0.001221</td>\n",
       "      <td>3.345304</td>\n",
       "      <td>1.106018</td>\n",
       "      <td>1.250650</td>\n",
       "    </tr>\n",
       "    <tr>\n",
       "      <th>2</th>\n",
       "      <td>0.965852</td>\n",
       "      <td>-0.147755</td>\n",
       "      <td>0.140965</td>\n",
       "      <td>-0.142338</td>\n",
       "      <td>0.034468</td>\n",
       "      <td>0.053245</td>\n",
       "    </tr>\n",
       "    <tr>\n",
       "      <th>3</th>\n",
       "      <td>1.747967</td>\n",
       "      <td>-0.382373</td>\n",
       "      <td>-0.228505</td>\n",
       "      <td>0.300777</td>\n",
       "      <td>-2.649442</td>\n",
       "      <td>0.797719</td>\n",
       "    </tr>\n",
       "    <tr>\n",
       "      <th>4</th>\n",
       "      <td>1.585786</td>\n",
       "      <td>1.707110</td>\n",
       "      <td>-3.126494</td>\n",
       "      <td>0.724047</td>\n",
       "      <td>-1.257900</td>\n",
       "      <td>2.137653</td>\n",
       "    </tr>\n",
       "  </tbody>\n",
       "</table>\n",
       "</div>"
      ],
      "text/plain": [
       "         B1        B2        B3        B4        B5        B6\n",
       "0  0.444399  0.806100  2.207009  0.179143 -2.018446 -0.948586\n",
       "1 -2.751942 -0.942722 -0.001221  3.345304  1.106018  1.250650\n",
       "2  0.965852 -0.147755  0.140965 -0.142338  0.034468  0.053245\n",
       "3  1.747967 -0.382373 -0.228505  0.300777 -2.649442  0.797719\n",
       "4  1.585786  1.707110 -3.126494  0.724047 -1.257900  2.137653"
      ]
     },
     "execution_count": 7,
     "metadata": {},
     "output_type": "execute_result"
    }
   ],
   "source": [
    "test_data_4 = pd.DataFrame()\n",
    "test_data_4[\"B1\"] = np.hstack([sp.stats.norm.rvs(0.03, 1.5, 38, random_state=17), np.full(12, np.NaN)])\n",
    "test_data_4[\"B2\"] = np.hstack([sp.stats.norm.rvs(0.42, 1.5, 45, random_state=43), np.full(5, np.NaN)])\n",
    "test_data_4[\"B3\"] = np.hstack([sp.stats.norm.rvs(-0.12, 1.5, 42, random_state=14), np.full(8, np.NaN)])\n",
    "test_data_4[\"B4\"] = sp.stats.norm.rvs(0.06, 1.5, 50, random_state=18)\n",
    "test_data_4[\"B5\"] = np.hstack([sp.stats.norm.rvs(-0.39, 1.5, 43, random_state=123), np.full(7, np.NaN)])\n",
    "test_data_4[\"B6\"] = np.hstack([sp.stats.norm.rvs(0.12, 1.5, 39, random_state=13), np.full(11, np.NaN)])\n",
    "test_data_4.head()"
   ]
  },
  {
   "cell_type": "markdown",
   "id": "8e27ec51-4710-453e-8a72-cda38e59ca5b",
   "metadata": {
    "deletable": false,
    "editable": false,
    "nbgrader": {
     "cell_type": "markdown",
     "checksum": "0561d3cacb7a2fa6d89a560f2d4d8d6e",
     "grade": false,
     "grade_id": "cell-24f6d6234de2b216",
     "locked": true,
     "schema_version": 3,
     "solution": false,
     "task": false
    },
    "tags": []
   },
   "source": [
    "### Zadanie 1: Weryfikacja hipotezy o wartości oczekiwanej metodą bootstrap [7 pkt]\n",
    "\n",
    "Przygotuj funkcję `bootstrap_mean_NHST()`, która będzie weryfikować hipotezę o wartości przeciętnej metodą bootstrap i wyświetlać wynik testu statystycznego zgodnie z wytycznymi zawartymi w dołączonym do notatnika zestawie wzorów, w treści zadania oraz w docstring funkcji.\n",
    "\n",
    "Uwagi do wykonania zadania:\n",
    " - Automatyczne testy zakładają losowanie prób wg następującego schematu - kolejne próby są losowane w pętli for, a funkcja losująca próbę (np. `pd.sample()`) w kolejnych losowaniach ma ustawioną wartość parametru odpowiadającego za ziarno generatora liczb losowych na wartość `random_state`, `random_state+1`, `random_state+2` itd. \n",
    " - Celem zadania jest napisanie funkcji od podstaw, w rozwiązaniu nie należy korzystać z gotowych funkcji służących do estymacji bootstrapowej."
   ]
  },
  {
   "cell_type": "code",
   "execution_count": 8,
   "id": "8e517854-97d7-4e53-863a-7df0ac4e2383",
   "metadata": {
    "deletable": false,
    "nbgrader": {
     "cell_type": "code",
     "checksum": "6d62a718661ec879629abdbfab0ca68e",
     "grade": false,
     "grade_id": "cell-785ec15f742a9fbb",
     "locked": false,
     "schema_version": 3,
     "solution": true,
     "task": false
    },
    "tags": []
   },
   "outputs": [],
   "source": [
    "def bootstrap_mean_NHST(data, H0, H1, number_of_samples, alpha, random_state):\n",
    "    \"\"\"\n",
    "    Parameters\n",
    "    -------\n",
    "    data: DataFrame\n",
    "        Tablica zawierająca domyślny indeks i kolumnę \"X\" wynikami próby losowej.\n",
    "    H0: float\n",
    "        Wartość przeciętna przyjęta jako hipoteza zerowa.\n",
    "    H1: str\n",
    "        Postać hipotezy alternatywnej, przyjmuje wartości:\n",
    "        - two-sided: wartość przeciętna jest różna od wartości przyjętej w H0,\n",
    "        - less: wartość przeciętna jest mniejsza od wartości przyjętej w H0,\n",
    "        - greater: wartość przeciętna jest większa od wartości przyjętej w H0.\n",
    "    alpha: float\n",
    "        Wartość określająca poziom istotności.\n",
    "    \n",
    "    Returns\n",
    "    -------\n",
    "    pvalue: float\n",
    "        Prawdopodobieństwo otrzymania bardziej ekstremalnej wartości statystyki testowej (w kierunku hipotezy alternatywnej)\n",
    "        względem wartości otrzymanej na podstawie próby losowej.\n",
    "    H: int\n",
    "        Wynik testu statystycznego, przyjmuje wartość:\n",
    "        0 - gdy wynik testu istotności nie daje podstaw do odrzucenia H0 na rzecz H1 na poziomie istotności 1-alpha,\n",
    "        1 - gdy następuje odrzucenie H0 na rzecz H1 na poziomie istotności 1-alpha.\n",
    "    \"\"\"\n",
    "    # YOUR CODE HERE\n",
    "    np.random.seed(random_state)\n",
    "    n=len(data)\n",
    "    sample_mean=data['X'].mean()\n",
    "    bootstrap_population=data['X']+(H0-sample_mean)\n",
    "\n",
    "    bootstrap_samples=[]\n",
    "    for i in range(number_of_samples):\n",
    "        np.random.seed(random_state+i)\n",
    "        sample=bootstrap_population.sample(n, replace=True)\n",
    "        m=sample.mean()\n",
    "        bootstrap_samples.append(m)\n",
    "\n",
    "    bootstrap_means = np.array(bootstrap_samples)\n",
    "\n",
    "    if H1=='two-sided':\n",
    "        extreme_count=np.sum(np.abs(bootstrap_means-H0)>=np.abs(sample_mean-H0))\n",
    "        p_value=extreme_count/number_of_samples\n",
    "    elif H1=='greater':\n",
    "        p_value=np.sum(bootstrap_means>sample_mean)/number_of_samples\n",
    "    elif H1=='less':\n",
    "        p_value=np.sum(bootstrap_means<sample_mean)/number_of_samples\n",
    "\n",
    "    H=int(p_value<=alpha)\n",
    "\n",
    "    return p_value, H"
   ]
  },
  {
   "cell_type": "code",
   "execution_count": 9,
   "id": "41d5303c-f23a-44fc-a94f-db672f6e2272",
   "metadata": {
    "deletable": false,
    "editable": false,
    "nbgrader": {
     "cell_type": "code",
     "checksum": "743604acf2cd7e2930f10323f286d448",
     "grade": true,
     "grade_id": "cell-8031bfd90ae1d7db",
     "locked": true,
     "points": 7,
     "schema_version": 3,
     "solution": false,
     "task": false
    },
    "tags": []
   },
   "outputs": [],
   "source": [
    "# Komórka testowa\n",
    "assert np.all(np.isclose(bootstrap_mean_NHST(test_data_1, 5.08, \"two-sided\", 1000, 0.05, 10), (0.055, 0)))\n",
    "assert np.all(np.isclose(bootstrap_mean_NHST(test_data_1, 5.08, \"less\", 2000, 0.05, 12), (0.025, 1)))\n",
    "assert np.all(np.isclose(bootstrap_mean_NHST(test_data_1, 5.08, \"greater\", 1500, 0.1, 15), (0.974, 0)))"
   ]
  },
  {
   "cell_type": "markdown",
   "id": "83252197-43da-40d5-9186-20748b6838ce",
   "metadata": {
    "deletable": false,
    "editable": false,
    "nbgrader": {
     "cell_type": "markdown",
     "checksum": "af4124244126cabbcacd73781fc26a39",
     "grade": false,
     "grade_id": "cell-658f423b1770faf5",
     "locked": true,
     "schema_version": 3,
     "solution": false,
     "task": false
    },
    "tags": []
   },
   "source": [
    "### Zadanie 2: Weryfikacja hipotezy o dwóch wartościach oczekiwanych metodą bootstrap [7 pkt]\n",
    "\n",
    "Przygotuj funkcję `bootstrap_means_NHST()`, która będzie weryfikować hipotezę o dwóch wartościach przeciętnych metodą bootstrap i wyświetlać wynik testu statystycznego zgodnie z wytycznymi zawartymi w dołączonym do notatnika zestawie wzorów, w treści zadania oraz w docstring funkcji.\n",
    "\n",
    "Uwagi do wykonania zadania:\n",
    " - Automatyczne testy zakładają losowanie prób wg następującego schematu - kolejne próby są losowane w pętli for, a funkcja losująca próbę (np. `pd.sample()`) w kolejnych losowaniach ma ustawioną wartość parametru odpowiadającego za ziarno generatora liczb losowych na wartość `random_state` `random_state+2`, `random_state+4` itd. (pierwsza próba) oraz `random_state+1` `random_state+3`, `random_state+5` itd. (druga próba).\n",
    " - Celem zadania jest napisanie funkcji od podstaw, w rozwiązaniu nie należy korzystać z gotowych funkcji służących do estymacji bootstrapowej."
   ]
  },
  {
   "cell_type": "code",
   "execution_count": 10,
   "id": "f0c5ee03-99ca-4eb0-bbef-c2f0f0620306",
   "metadata": {
    "deletable": false,
    "nbgrader": {
     "cell_type": "code",
     "checksum": "706e926ee3223195748e24b5dda19f10",
     "grade": false,
     "grade_id": "cell-7e77c94e4c7ca7d1",
     "locked": false,
     "schema_version": 3,
     "solution": true,
     "task": false
    },
    "tags": []
   },
   "outputs": [],
   "source": [
    "def bootstrap_means_NHST(data1, data2, H1, number_of_samples, alpha, random_state):\n",
    "    \"\"\"\n",
    "    Parameters\n",
    "    -------\n",
    "    data1: DataFrame\n",
    "        Tablica zawierająca domyślny indeks i kolumnę \"X\" wynikami pierwszej próby losowej.\n",
    "    data2: DataFrame\n",
    "        Tablica zawierająca domyślny indeks i kolumnę \"X\" wynikami drugiej próby losowej.\n",
    "    H1: str\n",
    "        Postać hipotezy alternatywnej, przyjmuje wartości:\n",
    "        - two-sided: wartość przeciętna populacji, z których zostały pobrane próby jest różna,\n",
    "        - less: wartość przeciętna populacji, z której została pobrana druga próba jest mniejsza,\n",
    "        - greater: wartość przeciętna populacji, z której została pobrana druga próba jest większa,\n",
    "    alpha: float\n",
    "        Wartość określająca poziom istotności.\n",
    "    \n",
    "    Returns\n",
    "    -------\n",
    "    pvalue: float\n",
    "        Prawdopodobieństwo otrzymania bardziej ekstremalnej wartości statystyki testowej (w kierunku hipotezy alternatywnej)\n",
    "        względem wartości otrzymanej na podstawie próby losowej.\n",
    "    H: int\n",
    "        Wynik testu statystycznego, przyjmuje wartość:\n",
    "        0 - gdy wynik testu istotności nie daje podstaw do odrzucenia H0 na rzecz H1 na poziomie istotności 1-alpha,\n",
    "        1 - gdy następuje odrzucenie H0 na rzecz H1 na poziomie istotności 1-alpha.\n",
    "    \"\"\"\n",
    "    # YOUR CODE HERE\n",
    "    combined = np.concatenate([data1['X'], data2['X']])\n",
    "    delta_mean = np.mean(data1['X']) - np.mean(data2['X'])\n",
    "    bootstrap_deltas = []\n",
    "\n",
    "    for i in range(number_of_samples):\n",
    "        np.random.seed(random_state + 2 * i)\n",
    "        bootstrap_sample1 = np.random.choice(combined, len(data1), replace=True)\n",
    "        \n",
    "        np.random.seed(random_state + 2 * i + 1)\n",
    "        bootstrap_sample2 = np.random.choice(combined, len(data2), replace=True)\n",
    "        \n",
    "        bootstrap_deltas.append(np.mean(bootstrap_sample1) - np.mean(bootstrap_sample2))\n",
    "\n",
    "    bootstrap_deltas = np.array(bootstrap_deltas)\n",
    "\n",
    "    if H1 == 'two-sided':\n",
    "        p_value = np.mean(np.abs(bootstrap_deltas) >= np.abs(delta_mean))\n",
    "    elif H1 == 'less':\n",
    "        p_value = np.mean(bootstrap_deltas >= delta_mean)\n",
    "    elif H1 == 'greater':\n",
    "        p_value = np.mean(bootstrap_deltas <= delta_mean)\n",
    "\n",
    "    H = 0 if abs(p_value) > alpha else 1\n",
    "    return p_value, H"
   ]
  },
  {
   "cell_type": "code",
   "execution_count": 11,
   "id": "4f010ec5-091a-4969-a9f5-4abcdb59c441",
   "metadata": {
    "deletable": false,
    "editable": false,
    "nbgrader": {
     "cell_type": "code",
     "checksum": "edbf1cf8732dc7b340bdcaf3df3efaa0",
     "grade": true,
     "grade_id": "cell-254f587a69fbd2a9",
     "locked": true,
     "points": 7,
     "schema_version": 3,
     "solution": false,
     "task": false
    },
    "tags": []
   },
   "outputs": [],
   "source": [
    "# Komórka testowa\n",
    "assert np.all(np.isclose(bootstrap_means_NHST(test_data_1, test_data_2, \"two-sided\", 3000, 0.05, 144), (0.091, 0)))\n",
    "assert np.all(np.isclose(bootstrap_means_NHST(test_data_1, test_data_2, \"less\", 1000, 0.1, 10), (0.954, 0)))\n",
    "assert np.all(np.isclose(bootstrap_means_NHST(test_data_1, test_data_2, \"greater\", 1500, 0.05, 132), (0.046, 1)))"
   ]
  },
  {
   "cell_type": "markdown",
   "id": "67ef168d-3b1a-4c34-83e5-dc06f7633fc3",
   "metadata": {
    "deletable": false,
    "editable": false,
    "nbgrader": {
     "cell_type": "markdown",
     "checksum": "73ef68cc380f61eb7f5d860a7665c426",
     "grade": false,
     "grade_id": "cell-8ab167637c58772d",
     "locked": true,
     "schema_version": 3,
     "solution": false,
     "task": false
    },
    "tags": []
   },
   "source": [
    "### Zadanie 3: Weryfikacja hipotezy o dwóch wartościach oczekiwanych metodą testu permutacyjnego [7 pkt]\n",
    "\n",
    "Przygotuj funkcję `permutation_means_NHST()`, która będzie weryfikować hipotezę o dwóch wartościach przeciętnych metodą testu permutacyjnego i wyświetlać wynik testu statystycznego zgodnie z wytycznymi zawartymi w dołączonym do notatnika zestawie wzorów, w treści zadania oraz w docstring funkcji.\n",
    "\n",
    "Uwagi do wykonania zadania:\n",
    " - Automatyczne testy zakładają losowanie prób wg następującego schematu - kolejne próby są losowane w pętli for, a funkcja losująca pierwszą próbę (np. `pd.sample()`) w kolejnych losowaniach ma ustawioną wartość parametru odpowiadającego za ziarno generatora liczb losowych na wartość `random_state`, `random_state+1`, `random_state+2` itd. Pozostałe obserwacje trafiają do drugiej próby.\n",
    " - Celem zadania jest napisanie funkcji od podstaw, w rozwiązaniu nie należy korzystać z gotowych funkcji służących do estymacji bootstrapowej."
   ]
  },
  {
   "cell_type": "code",
   "execution_count": 12,
   "id": "cacf7029-db79-4c8f-a5ee-58954dd60931",
   "metadata": {
    "deletable": false,
    "nbgrader": {
     "cell_type": "code",
     "checksum": "9163aec1ce2f21b1adf185406bbb5cec",
     "grade": false,
     "grade_id": "cell-50fd23a693b99abd",
     "locked": false,
     "schema_version": 3,
     "solution": true,
     "task": false
    },
    "tags": []
   },
   "outputs": [],
   "source": [
    "def permutation_means_NHST(data1, data2, H1, number_of_samples, alpha, random_state):\n",
    "    \"\"\"\n",
    "    Parameters\n",
    "    -------\n",
    "    data1: DataFrame\n",
    "        Tablica zawierająca domyślny indeks i kolumnę \"X\" wynikami pierwszej próby losowej.\n",
    "    data2: DataFrame\n",
    "        Tablica zawierająca domyślny indeks i kolumnę \"X\" wynikami drugiej próby losowej.\n",
    "    H1: str\n",
    "        Postać hipotezy alternatywnej, przyjmuje wartości:\n",
    "        - two-sided: wartości przeciętne populacji, z których zostały pobrane próby są różne,\n",
    "        - less: wartość przeciętna populacji, z której została pobrana druga próba jest mniejsza,\n",
    "        - greater: wartość przeciętna populacji, z której została pobrana druga próba jest większa,\n",
    "    alpha: float\n",
    "        Wartość określająca poziom istotności.\n",
    "    \n",
    "    Returns\n",
    "    -------\n",
    "    pvalue: float\n",
    "        Prawdopodobieństwo otrzymania bardziej ekstremalnej wartości statystyki testowej (w kierunku hipotezy alternatywnej)\n",
    "        względem wartości otrzymanej na podstawie próby losowej.\n",
    "    H: int\n",
    "        Wynik testu statystycznego, przyjmuje wartość:\n",
    "        0 - gdy wynik testu istotności nie daje podstaw do odrzucenia H0 na rzecz H1 na poziomie istotności 1-alpha,\n",
    "        1 - gdy następuje odrzucenie H0 na rzecz H1 na poziomie istotności 1-alpha.\n",
    "    \"\"\"\n",
    "    # YOUR CODE HERE\n",
    "    combined = np.concatenate([data1['X'], data2['X']])\n",
    "    delta_mean = np.mean(data1['X']) - np.mean(data2['X'])\n",
    "    perm_deltas = []\n",
    "\n",
    "    for i in range(number_of_samples):\n",
    "        np.random.seed(random_state + i)\n",
    "        perm_sample1 = np.random.choice(combined, len(data1), replace=False)\n",
    "        perm_sample2 = np.setdiff1d(combined, perm_sample1, assume_unique=True)\n",
    "\n",
    "        delta_mean_perm = np.mean(perm_sample1) - np.mean(perm_sample2)\n",
    "        perm_deltas.append(delta_mean_perm)\n",
    "\n",
    "    perm_deltas = np.array(perm_deltas)\n",
    "\n",
    "    if H1 == 'two-sided':\n",
    "        p_value = np.mean(np.abs(perm_deltas) >= np.abs(delta_mean))\n",
    "    elif H1 == 'less':\n",
    "        p_value = np.mean(perm_deltas >= delta_mean)\n",
    "    elif H1 == 'greater':\n",
    "        p_value = np.mean(perm_deltas <= delta_mean)\n",
    "\n",
    "    H = 1 if p_value < alpha else 0\n",
    "    return p_value, H"
   ]
  },
  {
   "cell_type": "code",
   "execution_count": 13,
   "id": "a6cd5760-9ad1-42f2-a392-0572c361bf75",
   "metadata": {
    "deletable": false,
    "editable": false,
    "nbgrader": {
     "cell_type": "code",
     "checksum": "225223250bb95d6170e5dc4b6a6041f6",
     "grade": true,
     "grade_id": "cell-461bf8e09003812c",
     "locked": true,
     "points": 7,
     "schema_version": 3,
     "solution": false,
     "task": false
    },
    "tags": []
   },
   "outputs": [],
   "source": [
    "# Komórka testowa\n",
    "assert np.all(np.isclose(permutation_means_NHST(test_data_1, test_data_2, \"two-sided\", 2000, 0.1, 67), (0.0905, 1)))\n",
    "assert np.all(np.isclose(permutation_means_NHST(test_data_1, test_data_2, \"less\", 1000, 0.05, 15), (0.945, 0)))\n",
    "assert np.all(np.isclose(permutation_means_NHST(test_data_1, test_data_2, \"greater\", 2000, 0.05, 12), (0.0465, 1)))"
   ]
  },
  {
   "cell_type": "markdown",
   "id": "0cb8fc8a-3f95-4f17-8c44-9ecf6f40ae59",
   "metadata": {
    "deletable": false,
    "editable": false,
    "nbgrader": {
     "cell_type": "markdown",
     "checksum": "4ff18fd27b34e7f95969f671c9358276",
     "grade": false,
     "grade_id": "cell-021a56acf5420187",
     "locked": true,
     "schema_version": 3,
     "solution": false,
     "task": false
    },
    "tags": []
   },
   "source": [
    "### Zadanie 4: Jednoczynnikowa analiza wariancji [7 pkt]\n",
    "\n",
    "Przygotuj funkcję `one_way_anova()`, która będzie weryfikować hipotezę o równości wartości przeciętnych i wyświetlać wynik testu statystycznego zgodnie z wytycznymi zawartymi w treści zadania oraz w docstring funkcji.\n",
    "\n",
    "Poza zwracaniem zmiennych wymienionych w docsting funkcji, które są potrzebne do przeprowadzenia automatycznych testów funkcji powinna wykorzystywać udostępnioną na początku notatnika funkcję `vizualize_test_result()` do generowania wykresu zawierającego:\n",
    "- funkcję gęstości prawdopodobieństwa rozkładu teoretycznego wykorzystywanego w teście w zakresie od wartości, dla której dystrybuanta tego rozkładu przyjmuje wartość 0.0001 do wartości, dla której dystrybuanta tego rozkładu przyjmuje wartość 0.9999,\n",
    "- zaznaczony wyróżniającym się kolorem fragmentem pola pod krzywą odpowiadający wyznaczonemu w teście obszarowi krytycznemu,\n",
    "- wyróżniającą się kolorem pionowę linię wskazującą obliczoną wartość statystyki.\n",
    "\n",
    "Uwaga! Celem zadanie jest zapoznanie się ze schematem metody i samodzielne napisanie funkcji od podstaw. W związku z tym podczas rozwiązywania zadania nie należy korzystać z gotowych funkcji przeprowadzających analizę wariancji."
   ]
  },
  {
   "cell_type": "code",
   "execution_count": 14,
   "id": "ef93607e-5adb-4861-9504-903d87940e49",
   "metadata": {
    "deletable": false,
    "nbgrader": {
     "cell_type": "code",
     "checksum": "35ce7f7cd20cea2295d3da490fbb7590",
     "grade": false,
     "grade_id": "cell-b4d2870e76d0046b",
     "locked": false,
     "schema_version": 3,
     "solution": true,
     "task": false
    },
    "tags": []
   },
   "outputs": [],
   "source": [
    "def one_way_anova(data, alpha):\n",
    "    \"\"\"\n",
    "    data: DataFrame\n",
    "        Tablica zawierająca domyślny indeks i dowolnie nazwane kolumny (nazwy prób losowych) z wynikami prób losowych. Znajdujące się w tablicy wartości NaN nie są wynikami wchodzącymi w skład prób losowych,\n",
    "        a jedynie uzupełniają puste miejsca w tablicy powstałe na skutek różnej liczebności poszczególnych prób.\n",
    "    alpha: float\n",
    "        Wartość określająca poziom istotności.\n",
    "    \n",
    "    Returns\n",
    "    -------\n",
    "    F: float\n",
    "        Wyliczona na podstawie próby losowej wartość statystyki F.\n",
    "    F_alpha: float\n",
    "        Wartość statystyki F_alpha.\n",
    "    H: int\n",
    "        Wynik testu statystycznego, przyjmuje wartość:\n",
    "        0 - gdy wynik testu istotności nie daje podstaw do odrzucenia H0 na rzecz H1 na poziomie istotności 1-alpha,\n",
    "        1 - gdy następuje odrzucenie H0 na rzecz H1 na poziomie istotności 1-alpha.\n",
    "    \"\"\"\n",
    "    groups = [data[col].dropna().values for col in data.columns]\n",
    "    k = len(groups)\n",
    "    n = sum(len(group) for group in groups)\n",
    "    group_means = [np.mean(group) for group in groups]\n",
    "    overall_mean = np.mean([value for group in groups for value in group])\n",
    "    \n",
    "    Sum_of_Squares_Between_Groups = sum(len(group) * (group_mean - overall_mean) ** 2 for group, group_mean in zip(groups, group_means))\n",
    "    Sum_of_Squares_Within_Groups = sum(sum((value - group_mean) ** 2 for value in group) for group, group_mean in zip(groups, group_means))\n",
    "    \n",
    "    df_between = k - 1\n",
    "    df_within = n - k\n",
    "    \n",
    "    MSB = Sum_of_Squares_Between_Groups / df_between #Stopnie swobody między grupami \n",
    "    MSW = Sum_of_Squares_Within_Groups / df_within #Stopnie swobody wewnątrz grup \n",
    "    F_statistic = MSB / MSW\n",
    "    \n",
    "    p_value = 1 - sp.stats.f.cdf(F_statistic, df_between, df_within)\n",
    "    \n",
    "    F_alpha = sp.stats.f.ppf(1 - alpha, df_between, df_within)\n",
    "   \n",
    "    if F_statistic >= F_alpha :\n",
    "        decision = 'Odrzucamy H0' \n",
    "        H=1\n",
    "    else:\n",
    "        decision='Nie ma podstaw do odrzucenia H0'\n",
    "        H=0\n",
    "    #wizualizacja \n",
    "    x = np.linspace(0, sp.stats.f.ppf(0.9999, df_between, df_within), 1000)\n",
    "    y = sp.stats.f.ppf(x, df_between, df_within)\n",
    "    pdf = pd.DataFrame(data=y, index=x, columns=['f(x)'])\n",
    "    \n",
    "    rejection_region = [F_alpha, np.max(x), \"outer\"]\n",
    "\n",
    "    vizualize_test_result(pdf, F_statistic, rejection_region)\n",
    "\n",
    "    return F_statistic,F_alpha,H,\n"
   ]
  },
  {
   "cell_type": "code",
   "execution_count": 15,
   "id": "269e9f7e-1d42-45fc-a4d1-4b224f6ccb5e",
   "metadata": {
    "deletable": false,
    "editable": false,
    "nbgrader": {
     "cell_type": "code",
     "checksum": "b6d7c37ff3be171097f365695637b522",
     "grade": true,
     "grade_id": "cell-9d7cc7332dafc3d4",
     "locked": true,
     "points": 7,
     "schema_version": 3,
     "solution": false,
     "task": false
    },
    "tags": []
   },
   "outputs": [
    {
     "data": {
      "image/png": "[encoded data removed]",
      "text/plain": [
       "<Figure size 800x300 with 1 Axes>"
      ]
     },
     "metadata": {},
     "output_type": "display_data"
    },
    {
     "data": {
      "image/png": "[encoded data removed]",
      "text/plain": [
       "<Figure size 800x300 with 1 Axes>"
      ]
     },
     "metadata": {},
     "output_type": "display_data"
    }
   ],
   "source": [
    "### Komórka testowa\n",
    "assert np.all(np.isclose(one_way_anova(test_data_3, 0.05), (1.127072228543553, 3.8852938346523946, 0)))\n",
    "assert np.all(np.isclose(one_way_anova(test_data_4, 0.02), (4.79388401864753, 2.7336800410268243, 1)))"
   ]
  },
  {
   "cell_type": "markdown",
   "id": "c37526b4-7d02-42d7-bc61-9b11906717ec",
   "metadata": {
    "deletable": false,
    "editable": false,
    "nbgrader": {
     "cell_type": "markdown",
     "checksum": "f2d79e0f8941729161a9616350d6db3e",
     "grade": false,
     "grade_id": "cell-6b3949040bb7326e",
     "locked": true,
     "schema_version": 3,
     "solution": false,
     "task": false
    },
    "tags": []
   },
   "source": [
    "### Zadanie 5: Weryfikacja hipotez z wykorzystaniem dedykowanych funkcji [6 pkt]\n",
    "\n",
    "#### a) \n",
    "Wykorzystaj funkcję `scipy.stats.permutation_test()`, do zwertfikowania hipotezy o równości wartościach przeciętnych populacji z których zostały pobrane próby `test_data_1` i `test_data_2` względem hipotezy alternatywnej, że wartości oczekiwane tych populacji są różne. W obliczeniach przyjmij poziom istotności 1 - alpha = 0.9.\n",
    "\n",
    "Uwagi do wykonania zadania:\n",
    " - Podczas obliczeń ustaw wartość argumentu funkcji `scipy.stats.permutation_test()` odpowiadającego za ziarno generatora liczb losowych na 29."
   ]
  },
  {
   "cell_type": "code",
   "execution_count": 16,
   "id": "12349b63-1e2e-4fb7-be57-592f116b5130",
   "metadata": {
    "deletable": false,
    "nbgrader": {
     "cell_type": "code",
     "checksum": "d72e90f8167230a05b6b3a90facebabe",
     "grade": false,
     "grade_id": "cell-9cbb343f252cea62",
     "locked": false,
     "schema_version": 3,
     "solution": true,
     "task": false
    },
    "tags": []
   },
   "outputs": [],
   "source": [
    "def mean_difference(x, y):\n",
    "    return np.mean(x) - np.mean(y)\n",
    "    \n",
    "pvalue_1 = sp.stats.permutation_test((test_data_1, test_data_2),statistic=mean_difference, random_state=29).pvalue\n",
    "alpha = 0.1\n",
    "H_1 = 0 if abs(pvalue_1) >= alpha else 1"
   ]
  },
  {
   "cell_type": "code",
   "execution_count": 17,
   "id": "440bedd1-5e0b-4503-834f-3137db113036",
   "metadata": {
    "deletable": false,
    "editable": false,
    "nbgrader": {
     "cell_type": "code",
     "checksum": "1da890cf2aca2c564139a846960eb657",
     "grade": true,
     "grade_id": "cell-afc9121beb4bb34d",
     "locked": true,
     "points": 2,
     "schema_version": 3,
     "solution": false,
     "task": false
    },
    "tags": []
   },
   "outputs": [],
   "source": [
    "# Komórka testowa\n",
    "assert np.isclose(pvalue_1, 0.0944)\n",
    "assert H_1 == 1"
   ]
  },
  {
   "cell_type": "markdown",
   "id": "8c434a83-50c8-4f72-9664-3a9104b265b9",
   "metadata": {
    "deletable": false,
    "editable": false,
    "nbgrader": {
     "cell_type": "markdown",
     "checksum": "bebef049fdee1352d13e6be86687fdeb",
     "grade": false,
     "grade_id": "cell-cdca9199d51501be",
     "locked": true,
     "schema_version": 3,
     "solution": false,
     "task": false
    },
    "tags": []
   },
   "source": [
    "#### b) \n",
    "Wykorzystaj funkcję `scipy.stats.permutation_test()`, do zwertfikowania hipotezy o równości wariancji populacji z których zostały pobrane próby `test_data_1` i `test_data_2` względem hipotezy alternatywnej, że wariacja populacji, z której została pobrana próba `test_data_2` jest wyższa. W obliczeniach przyjmij poziom istotności 1 - alpha = 0.95.\n",
    "\n",
    "Uwagi do wykonania zadania:\n",
    " - Automatyczne testy przewidują obliczenie wartości wariancji dla wartości parametru `ddof=1`.\n",
    " - Podczas obliczeń ustaw wartość argumentu funkcji `scipy.stats.permutation_test()` odpowiadającego za ziarno generatora liczb losowych na 29."
   ]
  },
  {
   "cell_type": "code",
   "execution_count": 18,
   "id": "779702c9-14d7-4830-9bd1-9af5d1742b4c",
   "metadata": {
    "deletable": false,
    "nbgrader": {
     "cell_type": "code",
     "checksum": "40287e2a6f2e580e1a79fe878a4ac264",
     "grade": false,
     "grade_id": "cell-c11ce5a3f5befcec",
     "locked": false,
     "schema_version": 3,
     "solution": true,
     "task": false
    },
    "tags": []
   },
   "outputs": [],
   "source": [
    "def variance_difference(x, y):\n",
    "    return np.var(y, ddof=1) - np.var(x, ddof=1)\n",
    "\n",
    "pvalue_2 = sp.stats.permutation_test((test_data_1, test_data_2),statistic=variance_difference, random_state=29,alternative='greater').pvalue\n",
    "alpha = 0.05\n",
    "H_2 = 0 if abs(pvalue_2) >= alpha else 1"
   ]
  },
  {
   "cell_type": "code",
   "execution_count": 19,
   "id": "7e0e561e-fa73-4277-8918-e4a01d70580d",
   "metadata": {
    "deletable": false,
    "editable": false,
    "nbgrader": {
     "cell_type": "code",
     "checksum": "2a51986cb2e38e2e8a135fd6de07bf89",
     "grade": true,
     "grade_id": "cell-121e82881f5f9118",
     "locked": true,
     "points": 2,
     "schema_version": 3,
     "solution": false,
     "task": false
    },
    "tags": []
   },
   "outputs": [],
   "source": [
    "# Komórka testowa\n",
    "assert np.isclose(pvalue_2, 0.1139)\n",
    "assert H_2 == 0"
   ]
  },
  {
   "cell_type": "markdown",
   "id": "4b9be2f2-21b5-4e79-81be-6864d67446ec",
   "metadata": {
    "deletable": false,
    "editable": false,
    "nbgrader": {
     "cell_type": "markdown",
     "checksum": "456a4f1f66e3a648c67a3fb9824aa28e",
     "grade": false,
     "grade_id": "cell-c168c2bbfb0bd2ed",
     "locked": true,
     "schema_version": 3,
     "solution": false,
     "task": false
    },
    "tags": []
   },
   "source": [
    "#### c)\n",
    "Korzystając z funkcji `sp.stats.f_oneway()` zweryfikuj hipotezę o równości wartości średnich zmiennych zawartych w zmiennej `test_data_4`. W obliczeniach przyjmij poziom istotności 1 - alpha = 0.95.\n",
    "\n",
    "Zapisz obliczoną wartość pvalue do zmiennej `pvalue_3`, oraz przygotuj zmienną `H_3` zawierającą wynik testu statystycznego (0 - gdy wynik testu istotności nie daje podstaw do odrzucenia H0 na rzecz H1 na poziomie istotności 1-alpha, 1 - gdy następuje odrzucenie H0 na rzecz H1 na poziomie istotności 1-alpha).\n",
    "\n",
    "Uwagi do wykonania zadania:\n",
    " - usuń z danych wartości NaN lub ustaw następującą wartość argumentu funkcji wykonującej test statystyczny odpowiedzialnego za radzenie sobie z wartościami nan: `nan_policy=\"omit\"`."
   ]
  },
  {
   "cell_type": "code",
   "execution_count": 21,
   "id": "0cf813e0-c2be-4f25-8302-1002c784d8f6",
   "metadata": {
    "deletable": false,
    "nbgrader": {
     "cell_type": "code",
     "checksum": "eb9b1581675856bc124eeed53857b112",
     "grade": false,
     "grade_id": "cell-e98dbba04292565e",
     "locked": false,
     "schema_version": 3,
     "solution": true,
     "task": false
    },
    "tags": []
   },
   "outputs": [],
   "source": [
    "test_data_4_clean= test_data_4\n",
    "stats,pvalue_3=sp.stats.f_oneway(test_data_4_clean['B1'],test_data_4_clean['B2'],test_data_4_clean['B3'],test_data_4_clean['B4'],test_data_4_clean['B5'],\n",
    "                  test_data_4_clean['B6'],nan_policy=\"omit\")\n",
    "alpha = 0.95\n",
    "H_3 = 0 if abs(pvalue_3) >= alpha else 1"
   ]
  },
  {
   "cell_type": "code",
   "execution_count": 22,
   "id": "5efb9b99-ab0b-4805-b74b-8a914ab15fdb",
   "metadata": {
    "deletable": false,
    "editable": false,
    "nbgrader": {
     "cell_type": "code",
     "checksum": "f0bc7c0a4f1f995b0bec0a8df108c557",
     "grade": true,
     "grade_id": "cell-df73ae3e044a3933",
     "locked": true,
     "points": 2,
     "schema_version": 3,
     "solution": false,
     "task": false
    },
    "tags": []
   },
   "outputs": [],
   "source": [
    "# Komórka testowa\n",
    "assert np.isclose(pvalue_3, 0.0003333720426864202)\n",
    "assert H_3 == 1"
   ]
  }
 ],
 "metadata": {
  "kernelspec": {
   "display_name": "Python 3 (ipykernel)",
   "language": "python",
   "name": "python3"
  },
  "language_info": {
   "codemirror_mode": {
    "name": "ipython",
    "version": 3
   },
   "file_extension": ".py",
   "mimetype": "text/x-python",
   "name": "python",
   "nbconvert_exporter": "python",
   "pygments_lexer": "ipython3",
   "version": "3.10.0"
  }
 },
 "nbformat": 4,
 "nbformat_minor": 5
}
