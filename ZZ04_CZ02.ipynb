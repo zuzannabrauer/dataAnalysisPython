{
 "cells": [
  {
   "cell_type": "markdown",
   "id": "b80821d4",
   "metadata": {
    "deletable": false,
    "editable": false,
    "nbgrader": {
     "cell_type": "markdown",
     "checksum": "de5d2954ee53a96e0e5fe7d13e6051d7",
     "grade": false,
     "grade_id": "cell-fcd2666579131b77",
     "locked": true,
     "schema_version": 3,
     "solution": false,
     "task": false
    },
    "tags": []
   },
   "source": [
    "# Analiza danych przestrzennych - ćwiczenia laboratoryjne 2023/2024\n",
    "\n",
    "Ten notatnik zalicza się do grupy zestawów zadań, na podstawie których odbywa się zaliczenie ćwiczeń i podlega zwrotowi do oceny w ustalonym na zajęciach terminie.\n",
    "\n",
    "Uwagi i wytyczne ogólne dotyczące uzupełniania i oceny notatnika:\n",
    "- Podczas wykonywania zadań należy korzystać wyłącznie z pakietów zaimportowanych na początku notatnika oraz z pakietów wchodzących w skład standardowej biblioteki Pythona, które można zaimportować samodzielnie we wskazanej komórce notatnika.\n",
    "- Swoje rozwiązania należy wprowadzać wyłącznie w miejce następujących fragmentów kodu:<br/> `# YOUR CODE HERE`<br/> `raise NotImplementedError()`<br/> \n",
    "a odpowiedzi tekstowe w komórkach oznaczonych hasłem:<br/> \n",
    "`YOUR ANSWER HERE`<br/> \n",
    "Nie należy w żaden sposób modyfikować pozostałych fragmentów kodu oraz innych elementów notatnika, w szczególności dodawać lub usuwać komórek oraz zmieniać nazwy pliku.\n",
    "- Jeżeli zestaw zadań wymaga skorzystania z fragmentów kodu opracowanego w ramach wcześniejszych zestawów zadań należy je umieścić we wskazanej komórce notatnika.\n",
    "- Otrzymywane wyniki i odpowiedzi mają być rezultatem wykonania napisanego kodu, odpowiedzi uzupełniane manualnie nie podlegają ocenie.\n",
    "- Zawarte w notatniku automatyczne testy mają charakter poglądowy. Dotyczą one wybranych aspektów zadań i mają na celu wyłapać podstawowe błędy. Przejście przez kod wszystkich testów nie oznacza, że zadanie jest wykonane w całości poprawnie i zostanie ocenione na maksymalną liczbę punktów.\n",
    "- Zadania należy wykonać w taki sposób, aby podczas wykonywania kodu nie zostały wyświetlone żadne ostrzeżenia.\n",
    "- Zadania, które powodują wyświetlenie komunikatu o błędzie przerywającym wykonywanie kodu nie podlegają ocenie.\n",
    "\n",
    "Uwagi i wytyczne ogólne dotyczące wizualizacji wyników:\n",
    "- Wszystkie wykresy powinny być wykonane w jednolitym, przejrzystym i czytelnym stylu, posiadać odpowiednio dobrane proporcje i zakresy wartości osi.\n",
    "- Figury powinny mieć ustawione białe tło, tak, aby niezależnie od ustawień notatnika wszystkie elementy wykresów były dobrze widoczne (domyślnie tło jest przeźroczyste co może powodować problemy w notatnikach z ustawionym ciemnym tłem). Rozmiar poziomy figur nie powinien przekraczać 20 cali.\n",
    "- Wykresy oraz ich osie powinny mieć nadane tytuły. Jeżeli w obrębie figury znajduje się więcej niż jeden wykres to figura również powinna mieć nadany tytuł.\n",
    "\n",
    "Przed odesłaniem zestawu zadań do oceny proszę uzupełnić komórkę z danymi autorów rozwiązania (nazwa zespołu oraz imiona, nazwiska i numery indeksów członków zespołu) oraz upewnić się, że notatnik działa zgodnie z oczekiwaniami. W tym celu należy skorzystać z opcji **Restart Kernel and Run All Cells...** dostępnej na górnej belce notatnika pod symbolem $\\blacktriangleright\\blacktriangleright$."
   ]
  },
  {
   "cell_type": "markdown",
   "id": "c82b7597",
   "metadata": {},
   "source": [
    "Nazwa zespołu: Zuzanna Brauer, Sandra Głowacka, Zuzanna Chmielarska <br>\n",
    "Członkowie: IAD13"
   ]
  },
  {
   "cell_type": "markdown",
   "id": "8f7fcb0f",
   "metadata": {
    "deletable": false,
    "editable": false,
    "nbgrader": {
     "cell_type": "markdown",
     "checksum": "eddc8826810e4a6f7bf68319da334bd9",
     "grade": false,
     "grade_id": "cell-109006d425e5cf83",
     "locked": true,
     "schema_version": 3,
     "solution": false,
     "task": false
    },
    "tags": []
   },
   "source": [
    "---"
   ]
  },
  {
   "cell_type": "markdown",
   "id": "9a85ee96-f298-48a6-8b1b-8371203e6533",
   "metadata": {
    "deletable": false,
    "editable": false,
    "nbgrader": {
     "cell_type": "markdown",
     "checksum": "069576ba3375c04265e0cb34d222251e",
     "grade": false,
     "grade_id": "cell-8809d9a46a5dca3f",
     "locked": true,
     "schema_version": 3,
     "solution": false,
     "task": false
    },
    "tags": []
   },
   "source": [
    "## Zestaw zadań 4: Wybrane teoretyczne rozkłady prawdopodobieństwa oraz elementy teorii estymacji (Notatnik 2/3)"
   ]
  },
  {
   "cell_type": "code",
   "execution_count": 2,
   "id": "af6fe030-5d04-40f5-8afc-f6382e3530ad",
   "metadata": {
    "deletable": false,
    "editable": false,
    "nbgrader": {
     "cell_type": "code",
     "checksum": "8fd91020cbb733dbd988079c7bbf1392",
     "grade": false,
     "grade_id": "cell-dd46250ea099d4b3",
     "locked": true,
     "schema_version": 3,
     "solution": false,
     "task": false
    },
    "tags": []
   },
   "outputs": [],
   "source": [
    "import numpy as np\n",
    "import pandas as pd\n",
    "import scipy as sp\n",
    "import matplotlib as mpl\n",
    "import matplotlib.pyplot as plt\n",
    "import seaborn as sns"
   ]
  },
  {
   "cell_type": "code",
   "execution_count": 32,
   "id": "3ce1ed98-bd44-41e6-81d8-70bfccbd9482",
   "metadata": {
    "tags": []
   },
   "outputs": [
    {
     "ename": "ModuleNotFoundError",
     "evalue": "No module named 'sklearn'",
     "output_type": "error",
     "traceback": [
      "\u001b[1;31m---------------------------------------------------------------------------\u001b[0m",
      "\u001b[1;31mModuleNotFoundError\u001b[0m                       Traceback (most recent call last)",
      "Cell \u001b[1;32mIn[32], line 2\u001b[0m\n\u001b[0;32m      1\u001b[0m \u001b[38;5;28;01mfrom\u001b[39;00m \u001b[38;5;21;01mmath\u001b[39;00m \u001b[38;5;28;01mimport\u001b[39;00m sqrt\n\u001b[1;32m----> 2\u001b[0m \u001b[38;5;28;01mfrom\u001b[39;00m \u001b[38;5;21;01msklearn\u001b[39;00m\u001b[38;5;21;01m.\u001b[39;00m\u001b[38;5;21;01mlinear_model\u001b[39;00m \u001b[38;5;28;01mimport\u001b[39;00m LinearRegression\n",
      "\u001b[1;31mModuleNotFoundError\u001b[0m: No module named 'sklearn'"
     ]
    }
   ],
   "source": [
    "from math import sqrt"
   ]
  },
  {
   "cell_type": "markdown",
   "id": "34b42e0b-5b6c-4f03-961f-5a4afd9a1c06",
   "metadata": {
    "deletable": false,
    "editable": false,
    "nbgrader": {
     "cell_type": "markdown",
     "checksum": "45cbde32ff117d7bf8ee73ddb55387ad",
     "grade": false,
     "grade_id": "cell-d758f4c2cba54ca3",
     "locked": true,
     "schema_version": 3,
     "solution": false,
     "task": false
    },
    "tags": []
   },
   "source": [
    "### Dane do zadań\n",
    "\n",
    "W celu wygenerowania danych wykorzystywanych w zawartych w notatniku zadaniach i komórkach testowych wykonaj obie poniższe komórki."
   ]
  },
  {
   "cell_type": "code",
   "execution_count": 3,
   "id": "19457fec-9ec3-4eb7-add6-044661a1fd3b",
   "metadata": {
    "deletable": false,
    "editable": false,
    "nbgrader": {
     "cell_type": "code",
     "checksum": "ec598f8f05f80f4441e891f8df914434",
     "grade": false,
     "grade_id": "cell-47e6048405f1c1c1",
     "locked": true,
     "schema_version": 3,
     "solution": false,
     "task": false
    },
    "tags": []
   },
   "outputs": [
    {
     "data": {
      "text/html": [
       "<div>\n",
       "<style scoped>\n",
       "    .dataframe tbody tr th:only-of-type {\n",
       "        vertical-align: middle;\n",
       "    }\n",
       "\n",
       "    .dataframe tbody tr th {\n",
       "        vertical-align: top;\n",
       "    }\n",
       "\n",
       "    .dataframe thead th {\n",
       "        text-align: right;\n",
       "    }\n",
       "</style>\n",
       "<table border=\"1\" class=\"dataframe\">\n",
       "  <thead>\n",
       "    <tr style=\"text-align: right;\">\n",
       "      <th></th>\n",
       "      <th>X</th>\n",
       "    </tr>\n",
       "  </thead>\n",
       "  <tbody>\n",
       "    <tr>\n",
       "      <th>0</th>\n",
       "      <td>5.338105</td>\n",
       "    </tr>\n",
       "    <tr>\n",
       "      <th>1</th>\n",
       "      <td>4.906813</td>\n",
       "    </tr>\n",
       "    <tr>\n",
       "      <th>2</th>\n",
       "      <td>5.006564</td>\n",
       "    </tr>\n",
       "    <tr>\n",
       "      <th>3</th>\n",
       "      <td>5.081503</td>\n",
       "    </tr>\n",
       "    <tr>\n",
       "      <th>4</th>\n",
       "      <td>4.842215</td>\n",
       "    </tr>\n",
       "  </tbody>\n",
       "</table>\n",
       "</div>"
      ],
      "text/plain": [
       "          X\n",
       "0  5.338105\n",
       "1  4.906813\n",
       "2  5.006564\n",
       "3  5.081503\n",
       "4  4.842215"
      ]
     },
     "execution_count": 3,
     "metadata": {},
     "output_type": "execute_result"
    }
   ],
   "source": [
    "# Dane do testów 1\n",
    "test_data_1 = pd.DataFrame(data=sp.stats.norm.rvs(loc=5, scale=0.2, size=20, random_state=7), columns=[\"X\"])\n",
    "test_data_1.head()"
   ]
  },
  {
   "cell_type": "code",
   "execution_count": 4,
   "id": "3fff7c51-6f2c-4ff4-84bc-63d4cbf9bcf8",
   "metadata": {
    "deletable": false,
    "editable": false,
    "nbgrader": {
     "cell_type": "code",
     "checksum": "4cb22a21103a84d07460b662e976fab8",
     "grade": false,
     "grade_id": "cell-0e7c7453924f7bb0",
     "locked": true,
     "schema_version": 3,
     "solution": false,
     "task": false
    },
    "tags": []
   },
   "outputs": [
    {
     "data": {
      "text/html": [
       "<div>\n",
       "<style scoped>\n",
       "    .dataframe tbody tr th:only-of-type {\n",
       "        vertical-align: middle;\n",
       "    }\n",
       "\n",
       "    .dataframe tbody tr th {\n",
       "        vertical-align: top;\n",
       "    }\n",
       "\n",
       "    .dataframe thead th {\n",
       "        text-align: right;\n",
       "    }\n",
       "</style>\n",
       "<table border=\"1\" class=\"dataframe\">\n",
       "  <thead>\n",
       "    <tr style=\"text-align: right;\">\n",
       "      <th></th>\n",
       "      <th>X</th>\n",
       "      <th>Y</th>\n",
       "    </tr>\n",
       "  </thead>\n",
       "  <tbody>\n",
       "    <tr>\n",
       "      <th>0</th>\n",
       "      <td>-1.614383</td>\n",
       "      <td>-9.653548</td>\n",
       "    </tr>\n",
       "    <tr>\n",
       "      <th>1</th>\n",
       "      <td>5.801005</td>\n",
       "      <td>8.109542</td>\n",
       "    </tr>\n",
       "    <tr>\n",
       "      <th>2</th>\n",
       "      <td>-1.072962</td>\n",
       "      <td>-7.234931</td>\n",
       "    </tr>\n",
       "    <tr>\n",
       "      <th>3</th>\n",
       "      <td>4.328927</td>\n",
       "      <td>4.561478</td>\n",
       "    </tr>\n",
       "    <tr>\n",
       "      <th>4</th>\n",
       "      <td>-1.861092</td>\n",
       "      <td>-6.031980</td>\n",
       "    </tr>\n",
       "  </tbody>\n",
       "</table>\n",
       "</div>"
      ],
      "text/plain": [
       "          X         Y\n",
       "0 -1.614383 -9.653548\n",
       "1  5.801005  8.109542\n",
       "2 -1.072962 -7.234931\n",
       "3  4.328927  4.561478\n",
       "4 -1.861092 -6.031980"
      ]
     },
     "execution_count": 4,
     "metadata": {},
     "output_type": "execute_result"
    }
   ],
   "source": [
    "# Dane do testów 2\n",
    "x = sp.stats.uniform.rvs(loc=-2, scale=10, size=250, random_state=34)\n",
    "y = 2*x - 5 + sp.stats.norm.rvs(loc=0, scale=2, size=250, random_state=13)\n",
    "test_data_2 = pd.DataFrame(data=np.array([x, y]).T, columns=[\"X\", \"Y\"])\n",
    "test_data_2.head()"
   ]
  },
  {
   "cell_type": "markdown",
   "id": "968200e6-f151-4b24-96ed-fee392c44cd3",
   "metadata": {
    "deletable": false,
    "editable": false,
    "nbgrader": {
     "cell_type": "markdown",
     "checksum": "f5c6d1d2bf9579aa0e3089f51db7df04",
     "grade": false,
     "grade_id": "cell-a9e2985263df8093",
     "locked": true,
     "schema_version": 3,
     "solution": false,
     "task": false
    },
    "tags": []
   },
   "source": [
    "### Zadanie 3: Estymacja przedziałowa wartości oczekiwanej [7 pkt]\n",
    "\n",
    "Przygotuj funkcję `mean_estimation()`, która będzie dokonywała estymacji przedziałowej wartości oczekiwanej dla danych wejściowych w postaci szeregu szczegółowego zgodnie ze schematem z załączonego do notatnika zestawu wzorów.\n",
    "\n",
    "Oprócz zwracanych wartości granic przedziału funkcja powinna wyświetlać następujący komunikat:\n",
    "\n",
    "`𝜇 należy do przedziału [X, Y] przy założeniu poziomu ufności 1-𝛼 = Z`\n",
    "\n",
    "gdzie X, Y i Z są automatycznie uzupełniane przez funkcję, a X i Y dodatkowo sformatowane w taki sposób, żeby wyświetlały się z dokładnością do 4 miejsc po przecinku."
   ]
  },
  {
   "cell_type": "code",
   "execution_count": 7,
   "id": "c6bc8ed2-429b-46a8-96d2-203b4f5b20f4",
   "metadata": {
    "deletable": false,
    "nbgrader": {
     "cell_type": "code",
     "checksum": "28cb74ef74e42a700677c62a4cbcbf11",
     "grade": false,
     "grade_id": "cell-3162b1779d0c603e",
     "locked": false,
     "schema_version": 3,
     "solution": true,
     "task": false
    },
    "tags": []
   },
   "outputs": [],
   "source": [
    "def mean_estimation(data, alpha, population_std=\"unknown\"):\n",
    "    \"\"\"\n",
    "    Parameters\n",
    "    -------\n",
    "    data: DataFrame\n",
    "        Tablica zawierająca domyślny indeks i pojedynczą kolumnę \"X\" z wartościami próby losowej,\n",
    "    alpha: float\n",
    "        Wartość określająca poziom istotności.\n",
    "    population_std: str or float\n",
    "        Jeżeli odchylenie standardowe populacji nie jest znane to parametr przyjmuje wartość \"unknown\",\n",
    "        w przeciwnym wypadku jest to wartość określająca odchylenie standardowe populacji.\n",
    "    \n",
    "    Returns\n",
    "    -------\n",
    "    mean_low: float\n",
    "        Dolna granica wyliczonego przedziału ufności.\n",
    "    mean_high: float\n",
    "        Górna granica wyliczonego przedziału ufności.\n",
    "    \"\"\"\n",
    "   \n",
    "    n = len(data)\n",
    "    data = data.to_numpy() # zamiana formatu ponieważ problem z printem przy pd.Series\n",
    "    mean = np.mean(data)\n",
    "\n",
    "    if population_std == \"unknown\":\n",
    "        t_score = sp.stats.t.ppf(1 - alpha/2, df = n-1)\n",
    "        margin = t_score*np.std(data, ddof = 1)/np.sqrt(n)\n",
    "    else:\n",
    "        t_score = sp.stats.norm.ppf(1 - alpha/2)\n",
    "        margin = t_score*population_std /np.sqrt(n)\n",
    "        \n",
    "    mean_low = mean - margin\n",
    "    mean_high = mean + margin\n",
    "    print(f\"𝜇 należy do przedziału [{mean_low:.4f}, {mean_high:.4f}] przy założeniu poziomu ufności 1 - {alpha} = {1 - alpha:.2f}\")\n",
    "\n",
    "    return (mean_low,mean_high)"
   ]
  },
  {
   "cell_type": "code",
   "execution_count": 8,
   "id": "21b73ba8-b1e5-4056-9eda-a6c485a5f919",
   "metadata": {
    "deletable": false,
    "editable": false,
    "nbgrader": {
     "cell_type": "code",
     "checksum": "68b8282c197934d981a40905ab470643",
     "grade": true,
     "grade_id": "cell-37f4b7bd74d39411",
     "locked": true,
     "points": 7,
     "schema_version": 3,
     "solution": false,
     "task": false
    },
    "tags": []
   },
   "outputs": [
    {
     "name": "stdout",
     "output_type": "stream",
     "text": [
      "𝜇 należy do przedziału [4.9056, 5.0527] przy założeniu poziomu ufności 1 - 0.1 = 0.90\n",
      "\n",
      "𝜇 należy do przedziału [4.8915, 5.0668] przy założeniu poziomu ufności 1 - 0.05 = 0.95\n",
      "\n",
      "𝜇 należy do przedziału [4.8751, 5.0832] przy założeniu poziomu ufności 1 - 0.02 = 0.98\n",
      "\n",
      "𝜇 należy do przedziału [4.9134, 5.0450] przy założeniu poziomu ufności 1 - 0.1 = 0.90\n",
      "\n",
      "𝜇 należy do przedziału [4.8995, 5.0589] przy założeniu poziomu ufności 1 - 0.05 = 0.95\n",
      "\n",
      "𝜇 należy do przedziału [4.8825, 5.0759] przy założeniu poziomu ufności 1 - 0.02 = 0.98\n"
     ]
    }
   ],
   "source": [
    "### Komórka testowa\n",
    "\n",
    "# Test na test_data_1 przy założeniu, że znane jest odchylenie standardowe populacji, z której została pobrana próbka losowa\n",
    "assert(np.all(np.isclose(mean_estimation(test_data_1, 0.1, population_std=0.2), (4.905619719495418, 5.05273990041144))))\n",
    "print()\n",
    "assert(np.all(np.isclose(mean_estimation(test_data_1, 0.05, population_std=0.2), (4.891527555895771, 5.066832064011087))))\n",
    "print()\n",
    "assert(np.all(np.isclose(mean_estimation(test_data_1, 0.02, population_std=0.2), (4.875142370240081, 5.083217249666777))))\n",
    "print()\n",
    "\n",
    "# # Test na test_data_1 przy założeniu, że nie jest znane odchylenie standardowe populacji, z której została pobrana próbka losowa\n",
    "assert(np.all(np.isclose(mean_estimation(test_data_1, 0.1), (4.913356369231727, 5.045003250675131))))\n",
    "print()\n",
    "assert(np.all(np.isclose(mean_estimation(test_data_1, 0.05), (4.899504007229391, 5.058855612677467))))\n",
    "print()\n",
    "assert(np.all(np.isclose(mean_estimation(test_data_1, 0.02), (4.882508507351398, 5.07585111255546))))"
   ]
  },
  {
   "cell_type": "markdown",
   "id": "52e04d99-0b6d-4589-8a89-235b225f9e38",
   "metadata": {
    "deletable": false,
    "editable": false,
    "nbgrader": {
     "cell_type": "markdown",
     "checksum": "2b1e63a0eac55de95185fa3bbbd0f73e",
     "grade": false,
     "grade_id": "cell-f65ad5fe2e18e7b2",
     "locked": true,
     "schema_version": 3,
     "solution": false,
     "task": false
    },
    "tags": []
   },
   "source": [
    "### Zadanie 4: Estymacja przedziałowa wariancji [5 pkt]\n",
    "Przygotuj funkcję `variance_estimation()`, która będzie dokonywała estymacji przedziałowej wariancji dla danych wejściowych w postaci szeregu szczegółowego zgodnie ze schematem z załączonego do notatnika zestawu wzorów.\n",
    "\n",
    "Oprócz zwracanych wartości granic przedziału funkcja powinna wyświetlać następujący komunikat:\n",
    "\n",
    "`𝜎^2  należy do przedziału [X, Y] przy założeniu poziomu ufności 1-𝛼 = Z`\n",
    "\n",
    "gdzie X, Y i Z są automatycznie uzupełniane przez funkcję, a X i Y dodatkowo sformatowane w taki sposób, żeby wyświetlały się z dokładnością do 4 miejsc po przecinku."
   ]
  },
  {
   "cell_type": "code",
   "execution_count": 9,
   "id": "b7c0ac0b-24d7-4192-942b-705751ab129b",
   "metadata": {
    "deletable": false,
    "nbgrader": {
     "cell_type": "code",
     "checksum": "e269acf5f9b82d9f951459683c9bf586",
     "grade": false,
     "grade_id": "cell-1f107aa4297b1e13",
     "locked": false,
     "schema_version": 3,
     "solution": true,
     "task": false
    },
    "tags": []
   },
   "outputs": [],
   "source": [
    "def variance_estimation(data, alpha):\n",
    "    \"\"\"\n",
    "    Parameters\n",
    "    -------\n",
    "    data: DataFrame\n",
    "        Tablica zawierająca domyślny indeks i pojedynczą kolumnę \"X\" z wartościami próby losowej,\n",
    "    alpha: float\n",
    "        Wartość określająca poziom istotności.\n",
    "    \n",
    "    Returns\n",
    "    -------\n",
    "    var_low: float\n",
    "        Dolna granica wyliczonego przedziału ufności.\n",
    "    var_high: float\n",
    "        Górna granica wyliczonego przedziału ufności.\n",
    "    \"\"\"\n",
    "    \n",
    "    x = data.to_numpy()\n",
    "    n = len(x)\n",
    "    mean = np.mean(data)\n",
    "    var = np.sum((x - mean)*(x - mean))/n\n",
    "    var_low = var*n/sp.stats.chi2.ppf(1 - alpha/2, n - 1)\n",
    "    var_high = var*n/sp.stats.chi2.ppf(alpha/2, n - 1)\n",
    "    print(f\"𝜎^2 należy do przedziału [{var_low:.4f}, {var_high:.4f}] przy założeniu poziomu ufności 1 - {alpha} = {1 - alpha:.2f}\")\n",
    "    \n",
    "    return (var_low,var_high)"
   ]
  },
  {
   "cell_type": "code",
   "execution_count": 10,
   "id": "3179b6b0-d787-420e-9207-9a70638b7177",
   "metadata": {
    "deletable": false,
    "editable": false,
    "nbgrader": {
     "cell_type": "code",
     "checksum": "55c5b4ef754d3b5123b33fbeca42ebeb",
     "grade": true,
     "grade_id": "cell-bd878d13cb44f436",
     "locked": true,
     "points": 5,
     "schema_version": 3,
     "solution": false,
     "task": false
    },
    "tags": []
   },
   "outputs": [
    {
     "name": "stdout",
     "output_type": "stream",
     "text": [
      "𝜎^2 należy do przedziału [0.0183, 0.0544] przy założeniu poziomu ufności 1 - 0.1 = 0.90\n",
      "\n",
      "𝜎^2 należy do przedziału [0.0168, 0.0618] przy założeniu poziomu ufności 1 - 0.05 = 0.95\n",
      "\n",
      "𝜎^2 należy do przedziału [0.0152, 0.0721] przy założeniu poziomu ufności 1 - 0.02 = 0.98\n"
     ]
    }
   ],
   "source": [
    "### Komórka testowa\n",
    "assert(np.all(np.isclose(variance_estimation(test_data_1, 0.1), (0.018268125369359626, 0.05442967510189219))));\n",
    "print()\n",
    "assert(np.all(np.isclose(variance_estimation(test_data_1, 0.05), (0.0167618487538223, 0.06182728513230527))));\n",
    "print()\n",
    "assert(np.all(np.isclose(variance_estimation(test_data_1, 0.02), (0.015215598500840796, 0.07214532146342346))));"
   ]
  },
  {
   "cell_type": "markdown",
   "id": "6a516be3-f23e-42b3-88ee-a35cde482429",
   "metadata": {
    "deletable": false,
    "editable": false,
    "nbgrader": {
     "cell_type": "markdown",
     "checksum": "5651ab8bf7a41007895ec5a60b958bb4",
     "grade": false,
     "grade_id": "cell-38219703c29d5493",
     "locked": true,
     "schema_version": 3,
     "solution": false,
     "task": false
    },
    "tags": []
   },
   "source": [
    "### Zadanie 5: Estymacja wartości współczynnika korelacji liniowej [5 pkt]\n",
    "\n",
    "Przygotuj funkcję `correlation_estimation()`, która będzie dokonywała estymacji przedziałowej wartości współczynnika korelacji liniowej Pearsona dla danych wejściowych w postaci szeregu szczegółowego zgodnie ze schematem z załączonego do notatnika zestawu wzorów.\n",
    "\n",
    "Oprócz zwracanych wartości granic przedziału funkcja powinna wyświetlać następujący komunikat:\n",
    "\n",
    "`r należy do przedziału [X, Y] przy założeniu poziomu ufności 1-𝛼 = Z`\n",
    "\n",
    "gdzie X, Y i Z są automatycznie uzupełniane przez funkcję, a X i Y dodatkowo sformatowane w taki sposób, żeby wyświetlały się z dokładnością do 4 miejsc po przecinku."
   ]
  },
  {
   "cell_type": "code",
   "execution_count": 60,
   "id": "a63f974a-cde0-4ca0-9bb1-a158ef94c210",
   "metadata": {
    "deletable": false,
    "nbgrader": {
     "cell_type": "code",
     "checksum": "9bb4d20277d6d67ef2536656498878ec",
     "grade": false,
     "grade_id": "cell-4eef8786fb47018a",
     "locked": false,
     "schema_version": 3,
     "solution": true,
     "task": false
    },
    "tags": []
   },
   "outputs": [],
   "source": [
    "def correlation_estimation(data, alpha):\n",
    "\n",
    "    \"\"\"\n",
    "    Parameters\n",
    "    -------\n",
    "    data: DataFrame\n",
    "        Tablica zawierająca domyślny indeks i dwie kolumny \"X\" i \"Y\" z wynikami próby losowej.\n",
    "    alpha: float\n",
    "        Wartość określająca poziom istotności.\n",
    "    \n",
    "    Returns\n",
    "    -------\n",
    "    r_corr_low: float\n",
    "        Dolna granica wyliczonego przedziału ufności.\n",
    "    r_corr_high: float\n",
    "        Górna granica wyliczonego przedziału ufności.\n",
    "    \"\"\"   \n",
    "\n",
    "    r = sp.stats.pearsonr(data['X'], data['Y']).statistic\n",
    "    r_corr_low = r - sp.stats.norm.ppf(1 - alpha/2)*(1 - r*r)/sqrt(len(data))\n",
    "    r_corr_high = r + sp.stats.norm.ppf(1 - alpha/2)*(1 - r*r)/sqrt(len(data))\n",
    "    print(f\"r należy do przedziału [{r_corr_low:.4f}, {r_corr_high:.4f}] przy założeniu poziomu ufności 1 - {alpha} = {1 - alpha:.2f}\")\n",
    "\n",
    "    return(r_corr_low, r_corr_high)"
   ]
  },
  {
   "cell_type": "code",
   "execution_count": 61,
   "id": "89ad6b00-9ea2-485f-854c-6a8a838bdaff",
   "metadata": {
    "deletable": false,
    "editable": false,
    "nbgrader": {
     "cell_type": "code",
     "checksum": "ca7d9d362a60ff24724ec94036e9e5b4",
     "grade": true,
     "grade_id": "cell-361fdd010375f603",
     "locked": true,
     "points": 5,
     "schema_version": 3,
     "solution": false,
     "task": false
    },
    "tags": []
   },
   "outputs": [
    {
     "name": "stdout",
     "output_type": "stream",
     "text": [
      "r należy do przedziału [0.9495, 0.9692] przy założeniu poziomu ufności 1 - 0.05 = 0.95\n",
      "r należy do przedziału [0.9476, 0.9711] przy założeniu poziomu ufności 1 - 0.02 = 0.98\n"
     ]
    }
   ],
   "source": [
    "### Komórka testowa\n",
    "assert np.all(np.isclose(correlation_estimation(test_data_2, 0.05), (0.9494696249316307, 0.9692185148958979)))\n",
    "assert np.all(np.isclose(correlation_estimation(test_data_2, 0.02), (0.9476237555239514, 0.9710643843035772)))"
   ]
  },
  {
   "cell_type": "markdown",
   "id": "94692a53-43e6-49e6-b06b-27e8acd4f262",
   "metadata": {
    "deletable": false,
    "editable": false,
    "nbgrader": {
     "cell_type": "markdown",
     "checksum": "509fc34b4c1c8d381a5ca77772878b0c",
     "grade": false,
     "grade_id": "cell-a4a7cace74d8ba59",
     "locked": true,
     "schema_version": 3,
     "solution": false,
     "task": false
    },
    "tags": []
   },
   "source": [
    "### Zadanie 6: Estymacja współczynników równania regresji liniowej [8 pkt]\n",
    "\n",
    "Przygotuj funkcję `interval_linear_regression_coefficients_estimation()`, która będzie dokonywała estymacji przedziałowej wartości współczynników równania regresji liniowej dla danych wejściowych w postaci szeregu szczegółowego zgodnie ze schematem z załączonego do notatnika zestawu wzorów.\n",
    "\n",
    "Oprócz zwracanych wartości granic przedziału funkcja powinna wyświetlać następujący komunikat:\n",
    "\n",
    "`a należy do przedziału [X1, Y1] przy założeniu poziomu ufności 1-𝛼 = Z1` </br>\n",
    "`b należy do przedziału [X2, Y2] przy założeniu poziomu ufności 1-𝛼 = Z2`\n",
    "\n",
    "gdzie X1, X2, Y1, Y2, Z1 i Z2 są automatycznie uzupełniane przez funkcję, a X1, X2, Y1 i Y2 dodatkowo sformatowane w taki sposób, żeby wyświetlały się z dokładnością do 4 miejsc po przecinku."
   ]
  },
  {
   "cell_type": "code",
   "execution_count": 50,
   "id": "e6f1c6c0-9fbf-4450-84e6-af7f0c83abca",
   "metadata": {
    "deletable": false,
    "nbgrader": {
     "cell_type": "code",
     "checksum": "6960dc08efbb6141cd36cbbe7e3e34e6",
     "grade": false,
     "grade_id": "cell-853c41ec96cf7c37",
     "locked": false,
     "schema_version": 3,
     "solution": true,
     "task": false
    },
    "tags": []
   },
   "outputs": [],
   "source": [
    "def linear_regression_coefficients_estimation(data, alpha):\n",
    "    \"\"\"\n",
    "    Parameters\n",
    "    -------\n",
    "    data: DataFrame\n",
    "        Tablica zawierająca domyślny indeks i dwie kolumny \"X\" i \"Y\" z wynikami próby losowej.\n",
    "    alpha: float\n",
    "        Wartość określająca poziom istotności.\n",
    "    \n",
    "    Returns\n",
    "    -------\n",
    "    a_ci: tuple\n",
    "        Zmienna typu tuple zawierajaca granice przedziału ufności parametru a (a_low, a_high).\n",
    "    b_ci: tuple\n",
    "        Zmienna typu tuple zawierajaca granice przedziału ufności parametru b (b_low, b_high).\n",
    "    \"\"\"   \n",
    "\n",
    "    reg = sp.stats.linregress(data['X'], data['Y'])\n",
    "    a_low = reg.slope - sp.stats.t.ppf(1 - alpha/2, df = len(data) - 2)*reg.stderr\n",
    "    a_high = reg.slope + sp.stats.t.ppf(1 - alpha/2, df = len(data) - 2)*reg.stderr\n",
    "    b_low = reg.intercept - sp.stats.t.ppf(1 - alpha/2, df = len(data) - 2)*reg.intercept_stderr\n",
    "    b_high = reg.intercept + sp.stats.t.ppf(1 - alpha/2, df = len(data) - 2)*reg.intercept_stderr\n",
    "    a_ci = (a_low, a_high)\n",
    "    b_ci = (b_low, b_high)\n",
    "    print(f\"a należy do przedziału [{a_low:.4f}, {a_high:.4f}] przy założeniu poziomu ufności 1 - {alpha} = {1 - alpha:.2f}\")\n",
    "    print(f\"b należy do przedziału [{b_low:.4f}, {b_high:.4f}] przy założeniu poziomu ufności 1 - {alpha} = {1 - alpha:.2f}\")\n",
    "    \n",
    "    return(a_ci, b_ci)"
   ]
  },
  {
   "cell_type": "code",
   "execution_count": 51,
   "id": "eddddb75-c699-4994-832f-6df6bdb997f0",
   "metadata": {
    "deletable": false,
    "editable": false,
    "nbgrader": {
     "cell_type": "code",
     "checksum": "69f0c2dee9f6a5198e08edfdba3757b2",
     "grade": true,
     "grade_id": "cell-3d47e4e5f2b4d455",
     "locked": true,
     "points": 8,
     "schema_version": 3,
     "solution": false,
     "task": false
    },
    "tags": []
   },
   "outputs": [
    {
     "name": "stdout",
     "output_type": "stream",
     "text": [
      "a należy do przedziału [1.9033, 2.0245] przy założeniu poziomu ufności 1 - 0.1 = 0.90\n",
      "b należy do przedziału [-5.3310, -4.7958] przy założeniu poziomu ufności 1 - 0.1 = 0.90\n",
      "\n",
      "a należy do przedziału [1.8916, 2.0361] przy założeniu poziomu ufności 1 - 0.05 = 0.95\n",
      "b należy do przedziału [-5.3827, -4.7442] przy założeniu poziomu ufności 1 - 0.05 = 0.95\n"
     ]
    }
   ],
   "source": [
    "### Komórka testowa\n",
    "assert np.all(np.isclose(linear_regression_coefficients_estimation(test_data_2, 0.1), ((1.90330932143819, 2.024457061652292), (-5.331039505544365, -4.7958291264947706))))\n",
    "print()\n",
    "assert np.all(np.isclose(linear_regression_coefficients_estimation(test_data_2, 0.05), ((1.8916219551002786, 2.0361444279902035), (-5.382672328053067, -4.744196303986069))))"
   ]
  },
  {
   "cell_type": "code",
   "execution_count": null,
   "id": "c2c3ccc9-2364-477a-be1a-90141114749d",
   "metadata": {},
   "outputs": [],
   "source": []
  }
 ],
 "metadata": {
  "kernelspec": {
   "display_name": "Python 3 (ipykernel)",
   "language": "python",
   "name": "python3"
  },
  "language_info": {
   "codemirror_mode": {
    "name": "ipython",
    "version": 3
   },
   "file_extension": ".py",
   "mimetype": "text/x-python",
   "name": "python",
   "nbconvert_exporter": "python",
   "pygments_lexer": "ipython3",
   "version": "3.10.0"
  }
 },
 "nbformat": 4,
 "nbformat_minor": 5
}
